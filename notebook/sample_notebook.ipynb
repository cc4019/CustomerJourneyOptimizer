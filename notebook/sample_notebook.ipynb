{
 "cells": [
  {
   "cell_type": "markdown",
   "metadata": {},
   "source": [
    "# Customer Journey Optimizer: Sample Usage\n",
    "This notebook demonstrates how to use the Customer Journey Optimizer package to analyze and optimize customer journeys"
   ]
  },
  {
   "cell_type": "markdown",
   "metadata": {},
   "source": []
  },
  {
   "cell_type": "code",
   "execution_count": 1,
   "metadata": {},
   "outputs": [],
   "source": [
    "# !pip3 install matplotlib-inline"
   ]
  },
  {
   "cell_type": "code",
   "execution_count": 5,
   "metadata": {},
   "outputs": [
    {
     "name": "stdout",
     "output_type": "stream",
     "text": [
      "['/opt/homebrew/Cellar/python@3.12/3.12.7_1/Frameworks/Python.framework/Versions/3.12/lib/python312.zip', '/opt/homebrew/Cellar/python@3.12/3.12.7_1/Frameworks/Python.framework/Versions/3.12/lib/python3.12', '/opt/homebrew/Cellar/python@3.12/3.12.7_1/Frameworks/Python.framework/Versions/3.12/lib/python3.12/lib-dynload', '', '/Users/chuciche/Desktop/CustomerJourneyOptimizer/CustomerJourneyOptimizer/.venv/lib/python3.12/site-packages', '/Users/chuciche/Desktop/CustomerJourneyOptimizer/CustomerJourneyOptimizer/src', '/Users/chuciche/Desktop/CustomerJourneyOptimizer/CustomerJourneyOptimizer/.venv/lib/python3.12/site-packages/setuptools/_vendor', '/Users/chuciche/Desktop/CustomerJourneyOptimizer/CustomerJourneyOptimizer/src']\n"
     ]
    }
   ],
   "source": [
    "import sys\n",
    "import os\n",
    "import pandas as pd\n",
    "import numpy as np\n",
    "import matplotlib.pyplot as plt\n",
    "\n",
    "# Get the current working directory (should be the 'notebook' folder)\n",
    "current_dir = os.getcwd()\n",
    "\n",
    "# Get the parent directory (which should be your project root)\n",
    "parent_dir = os.path.dirname(current_dir)\n",
    "\n",
    "# Add the 'src' directory to the Python path\n",
    "src_dir = os.path.join(parent_dir, 'src')\n",
    "sys.path.append(src_dir)\n",
    "\n",
    "# Verify the path has been added\n",
    "print(sys.path)\n"
   ]
  },
  {
   "cell_type": "code",
   "execution_count": 6,
   "metadata": {},
   "outputs": [],
   "source": [
    "from CustomerJourneyOptimizer import (\n",
    "        CustomerSegmentation,\n",
    "        SegmentsPredictor,\n",
    "        InterventionCatalog,\n",
    "        InterventionAnalyzer,\n",
    "        HVADefinition,\n",
    "        HVATracker,\n",
    "        JourneyMapper,\n",
    "        HVAJourneyPredictor,\n",
    "        SegmentJourneyPredictor,\n",
    "        InterventionToHVAAnalyzer,\n",
    "        HVAToValueAnalyzer,\n",
    "        InterventionOptimizer,\n",
    "        JourneyVisualizer,\n",
    "        ModelInterpreter,\n",
    "        ImpactReporter)"
   ]
  }
 ],
 "metadata": {
  "kernelspec": {
   "display_name": ".venv",
   "language": "python",
   "name": "python3"
  },
  "language_info": {
   "codemirror_mode": {
    "name": "ipython",
    "version": 3
   },
   "file_extension": ".py",
   "mimetype": "text/x-python",
   "name": "python",
   "nbconvert_exporter": "python",
   "pygments_lexer": "ipython3",
   "version": "3.12.7"
  }
 },
 "nbformat": 4,
 "nbformat_minor": 2
}
